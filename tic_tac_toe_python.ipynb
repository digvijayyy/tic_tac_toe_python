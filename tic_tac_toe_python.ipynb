{
 "cells": [
  {
   "cell_type": "code",
   "execution_count": 1,
   "metadata": {},
   "outputs": [],
   "source": [
    "tic=        {'7': ' ' , '8': ' ' , '9': ' ' ,\n",
    "             '4': ' ' , '5': ' ' , '6': ' ' ,\n",
    "             '1': ' ' , '2': ' ' , '3': ' ' }"
   ]
  },
  {
   "cell_type": "code",
   "execution_count": 2,
   "metadata": {},
   "outputs": [
    {
     "data": {
      "text/plain": [
       "dict"
      ]
     },
     "execution_count": 2,
     "metadata": {},
     "output_type": "execute_result"
    }
   ],
   "source": [
    "type(tic)"
   ]
  },
  {
   "cell_type": "code",
   "execution_count": 3,
   "metadata": {},
   "outputs": [
    {
     "name": "stdout",
     "output_type": "stream",
     "text": [
      " | | \n",
      "-----\n",
      " | | \n",
      "-----\n",
      " | | \n"
     ]
    }
   ],
   "source": [
    "def print_board(tic):\n",
    "    print(tic['7'] + '|' + tic['8'] + '|' + tic['9'])\n",
    "    print('-----')\n",
    "    print(tic['4'] + '|' + tic['5'] + '|' + tic['6'])\n",
    "    print('-----')\n",
    "    print(tic['1'] + '|' + tic['2'] + '|' + tic['3'])\n",
    "    \n",
    "print_board(tic)"
   ]
  },
  {
   "cell_type": "code",
   "execution_count": 4,
   "metadata": {},
   "outputs": [],
   "source": [
    "board_keys = []\n",
    "\n",
    "for key in tic:\n",
    "    board_keys.append(key)"
   ]
  },
  {
   "cell_type": "code",
   "execution_count": 5,
   "metadata": {},
   "outputs": [],
   "source": [
    "def game_play():\n",
    "    turn='X';\n",
    "    count =0;\n",
    "    for i in range(10):\n",
    "        print_board(tic)\n",
    "        print('It is your turn' +' '+ turn)\n",
    "        move=input()\n",
    "        if tic[move]==' ':\n",
    "            tic[move]=turn\n",
    "            count+=1\n",
    "        else:\n",
    "            print('Not possible')\n",
    "            continue\n",
    "            \n",
    "            \n",
    "        if count>=5:\n",
    "            if tic['7']==tic['8']==tic['9']!=' ':\n",
    "                print_board(tic)\n",
    "                print('player'+ turn + ' won the game' )\n",
    "                break\n",
    "            elif tic['4']==tic['5']==tic['6']!=' ':\n",
    "                print_board(tic)\n",
    "                print('player'+ turn + ' won the game' )\n",
    "                break\n",
    "            elif tic['1']==tic['2']==tic['3']!=' ':\n",
    "                print_board(tic)\n",
    "                print('player'+ turn + ' won the game' )\n",
    "                break\n",
    "            elif tic['1']==tic['4']==tic['7']!=' ':\n",
    "                print_board(tic)\n",
    "                print('player'+ turn + ' won the game' )\n",
    "                break\n",
    "            elif tic['8']==tic['5']==tic['2']!=' ':\n",
    "                print_board(tic)\n",
    "                print('player'+ turn + ' won the game' )\n",
    "                break\n",
    "            elif tic['9']==tic['6']==tic['3']!=' ':\n",
    "                print_board(tic)\n",
    "                print('player'+ turn + ' won the game' )\n",
    "                break\n",
    "            elif tic['7']==tic['5']==tic['3']!=' ':\n",
    "                print_board(tic)\n",
    "                print('player'+ turn + ' won the game' )\n",
    "                break\n",
    "            elif tic['1']==tic['5']==tic['9']!=' ':\n",
    "                print_board(tic)\n",
    "                print('player'+ turn + ' won the game' )\n",
    "                break\n",
    "                \n",
    "        if count==9:\n",
    "            print('Game over. It was tie')\n",
    "            break\n",
    "            \n",
    "        if turn =='X':\n",
    "            turn = 'O'\n",
    "        else:\n",
    "            turn = 'X'\n",
    "    \n",
    "    print('Do you want to restart(y/n)')\n",
    "    rest=input()\n",
    "    if rest=='Y' or rest=='y':        \n",
    "       for key in board_keys:\n",
    "            tic[key] = \" \"\n",
    "            \n",
    "       game_play()\n",
    "\n",
    "    \n",
    "        \n",
    "            \n",
    "            \n",
    "    \n",
    "   \n",
    "        \n",
    "        \n",
    "            \n",
    "        \n",
    "            \n",
    "                \n",
    "            \n",
    "          \n",
    "            \n",
    "        \n"
   ]
  },
  {
   "cell_type": "code",
   "execution_count": null,
   "metadata": {},
   "outputs": [
    {
     "name": "stdout",
     "output_type": "stream",
     "text": [
      " | | \n",
      "-----\n",
      " | | \n",
      "-----\n",
      " | | \n",
      "It is your turn X\n"
     ]
    }
   ],
   "source": [
    "game_play()"
   ]
  },
  {
   "cell_type": "code",
   "execution_count": null,
   "metadata": {},
   "outputs": [],
   "source": [
    "game_play()"
   ]
  },
  {
   "cell_type": "code",
   "execution_count": null,
   "metadata": {},
   "outputs": [],
   "source": []
  },
  {
   "cell_type": "code",
   "execution_count": null,
   "metadata": {},
   "outputs": [],
   "source": []
  },
  {
   "cell_type": "code",
   "execution_count": null,
   "metadata": {},
   "outputs": [],
   "source": []
  },
  {
   "cell_type": "code",
   "execution_count": null,
   "metadata": {},
   "outputs": [],
   "source": []
  }
 ],
 "metadata": {
  "kernelspec": {
   "display_name": "Python 3",
   "language": "python",
   "name": "python3"
  },
  "language_info": {
   "codemirror_mode": {
    "name": "ipython",
    "version": 3
   },
   "file_extension": ".py",
   "mimetype": "text/x-python",
   "name": "python",
   "nbconvert_exporter": "python",
   "pygments_lexer": "ipython3",
   "version": "3.7.4"
  }
 },
 "nbformat": 4,
 "nbformat_minor": 2
}
